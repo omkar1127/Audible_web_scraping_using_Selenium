{
 "cells": [
  {
   "cell_type": "markdown",
   "id": "a0e821e3",
   "metadata": {},
   "source": [
    "### Importing Libraries"
   ]
  },
  {
   "cell_type": "code",
   "execution_count": null,
   "id": "32d53058",
   "metadata": {},
   "outputs": [],
   "source": [
    "from selenium import webdriver\n",
    "from selenium.webdriver.common.by import By\n",
    "from selenium.webdriver.chrome.options import Options\n",
    "from selenium.webdriver.support.ui import WebDriverWait\n",
    "from selenium.webdriver.support import expected_conditions as EC\n",
    "import pandas as pd\n",
    "import re\n",
    "import time"
   ]
  },
  {
   "cell_type": "markdown",
   "id": "3d8262cd",
   "metadata": {},
   "source": [
    "### Headless Driver"
   ]
  },
  {
   "cell_type": "code",
   "execution_count": 91,
   "id": "dc5171e0",
   "metadata": {},
   "outputs": [],
   "source": [
    "#this will stop driver from opening\n",
    "options = Options()\n",
    "options.headless = True\n",
    "options.add_argument('window-size=1920x1080')"
   ]
  },
  {
   "cell_type": "markdown",
   "id": "da949359",
   "metadata": {},
   "source": [
    "### Creating Driver"
   ]
  },
  {
   "cell_type": "code",
   "execution_count": 92,
   "id": "5db6ca0c",
   "metadata": {},
   "outputs": [],
   "source": [
    "#can use both urls \n",
    "website = 'https://www.audible.in/search'\n",
    "# website = 'https://www.audible.in/charts/best' #for demo use this url as it contains only 5 pages\n",
    "driver = webdriver.Chrome(options=options)\n",
    "driver.get(website)\n",
    "# driver.maximize_window()"
   ]
  },
  {
   "cell_type": "markdown",
   "id": "12cc5571",
   "metadata": {},
   "source": [
    "### Pagination"
   ]
  },
  {
   "cell_type": "code",
   "execution_count": 93,
   "id": "f49ad63f",
   "metadata": {},
   "outputs": [],
   "source": [
    "#pagination\n",
    "pagination = driver.find_element(By.XPATH,'//ul[contains(@class,\"pagingElements\")]')\n",
    "pages = pagination.find_elements(By.TAG_NAME,'li')\n",
    "last_page = int(pages[-2].text)"
   ]
  },
  {
   "cell_type": "markdown",
   "id": "1dc430df",
   "metadata": {},
   "source": [
    "### Creating Empty Lists to store scrapped data"
   ]
  },
  {
   "cell_type": "code",
   "execution_count": 94,
   "id": "b9413aa9",
   "metadata": {},
   "outputs": [],
   "source": [
    "heading = []\n",
    "subtitle = []\n",
    "author = []\n",
    "narrator = []\n",
    "Durations = []\n",
    "Released_Date = []\n",
    "language = []\n",
    "stars = []"
   ]
  },
  {
   "cell_type": "markdown",
   "id": "21badb67",
   "metadata": {},
   "source": [
    "### Scrapping Logic"
   ]
  },
  {
   "cell_type": "code",
   "execution_count": null,
   "id": "40725bbc",
   "metadata": {},
   "outputs": [],
   "source": [
    "#commented part in this code is for implicit wait \n",
    "current_page = 1\n",
    "while current_page <= last_page:\n",
    "  #time.sleep(2)\n",
    "  container = WebDriverWait(driver,5).until(EC.presence_of_element_located((By.CLASS_NAME, 'adbl-impression-container ')))\n",
    "  #container = driver.find_element(By.CLASS_NAME, 'adbl-impression-container ')\n",
    "  products = WebDriverWait(container,5).until(EC.presence_of_all_elements_located((By.XPATH, './/li[contains(@class,\"productListItem\")]')))\n",
    "  #products = container.find_elements(By.XPATH, './/li[contains(@class,\"productListItem\")]')\n",
    "\n",
    "  for product in products:\n",
    "      heading_element = product.find_elements(By.XPATH, './/h3[contains(@class,\"bc-heading\")]')\n",
    "      heading.append(heading_element[0].text if heading_element else 'No Heading')\n",
    "\n",
    "      subtitle_element = product.find_elements(By.XPATH, './/li[contains(@class,\"subtitle\")]')\n",
    "      subtitle.append(subtitle_element[0].text if subtitle_element else 'No Subtitle')\n",
    "\n",
    "      author_element = product.find_elements(By.XPATH, './/li[contains(@class,\"authorLabel\")]')\n",
    "      author.append(author_element[0].text.replace(\"Written by: \", \"\") if author_element else 'No Author')\n",
    "\n",
    "      narrator_element = product.find_elements(By.XPATH, './/li[contains(@class,\"narratorLabel\")]')\n",
    "      narrator.append(narrator_element[0].text.replace(\"Narrated by: \", \"\") if narrator_element else 'No Narrator')\n",
    "\n",
    "      duration_element = product.find_elements(By.XPATH, './/li[contains(@class,\"runtimeLabel\")]')\n",
    "      Durations.append(duration_element[0].text.replace(\"Length: \", \"\") if duration_element else 'No Duration')\n",
    "\n",
    "      released_element = product.find_elements(By.XPATH, './/li[contains(@class,\"releaseDateLabel\")]')\n",
    "      Released_Date.append(released_element[0].text.replace(\"Release Date: \", \"\") if released_element else 'No Release Date')\n",
    "\n",
    "      language_element = product.find_elements(By.XPATH, './/li[contains(@class,\"languageLabel\")]')\n",
    "      language.append(language_element[0].text.replace(\"Language: \", \"\") if language_element else 'No Language')\n",
    "\n",
    "      star_element = product.find_elements(By.XPATH, './/li[contains(@class,\"ratingsLabel\")]')\n",
    "      stars.append(star_element[0].text.replace(\"\\n\",\"_\") if star_element else 'No Ratings')\n",
    "      \n",
    "  current_page = current_page + 1\n",
    "  try:    \n",
    "    next_page = driver.find_element(By.XPATH,'//span[contains(@class,\"nextButton\")]')\n",
    "    next_page.click()    \n",
    "  except:\n",
    "    pass\n",
    "\n",
    "# Closing WebDriver\n",
    "driver.quit()\n"
   ]
  },
  {
   "cell_type": "markdown",
   "id": "d0bb7761",
   "metadata": {},
   "source": [
    "### **Data Cleaning**"
   ]
  },
  {
   "cell_type": "markdown",
   "id": "3a73deb4",
   "metadata": {},
   "source": [
    "### removing the numerical values from the heading"
   ]
  },
  {
   "cell_type": "code",
   "execution_count": 96,
   "id": "2f0c1c5a",
   "metadata": {},
   "outputs": [],
   "source": [
    "heading = [re.sub(r\"^\\d+\\. \", \"\", h) for h in heading]"
   ]
  },
  {
   "cell_type": "markdown",
   "id": "50f728b1",
   "metadata": {},
   "source": [
    "### converting 'hr and min' format to 'mins' format"
   ]
  },
  {
   "cell_type": "code",
   "execution_count": null,
   "id": "7932388c",
   "metadata": {},
   "outputs": [],
   "source": [
    "Duration = []\n",
    "for duration in Durations:\n",
    "    match = re.findall(r'(\\d+) hrs? and (\\d+) mins?', duration)\n",
    "    if match:\n",
    "        hours, minutes = map(int, match[0]) \n",
    "        total_minutes = (hours * 60) + minutes \n",
    "        Duration.append(total_minutes)\n",
    "    else:\n",
    "        Duration.append(\"Invalid Format\")"
   ]
  },
  {
   "cell_type": "markdown",
   "id": "8172af41",
   "metadata": {},
   "source": [
    "### converting star column into rating and rating_count"
   ]
  },
  {
   "cell_type": "code",
   "execution_count": null,
   "id": "5ae24102",
   "metadata": {},
   "outputs": [],
   "source": [
    "rating_count = []\n",
    "rating = []\n",
    "\n",
    "\n",
    "for star in stars:\n",
    "    match = re.search(r'(\\d+(\\.\\d+)?) out of (\\d+) stars_(\\d{1,3}(?:,\\d{3})*) ratings', star)\n",
    "    if match:\n",
    "        rating.append(match.group(1)) \n",
    "        rating_count.append(match.group(4)) \n",
    "    else:\n",
    "        rating.append(\"No Rating\")\n",
    "        rating_count.append(\"No Ratings_count\")"
   ]
  },
  {
   "cell_type": "markdown",
   "id": "1a3e096f",
   "metadata": {},
   "source": [
    "## Storing all lists into Dictionary"
   ]
  },
  {
   "cell_type": "code",
   "execution_count": 99,
   "id": "72707337",
   "metadata": {},
   "outputs": [],
   "source": [
    "ebooks_data = {\n",
    "    \"Heading\": heading,\n",
    "    \"Subtitle\": subtitle,\n",
    "    \"Author\": author,\n",
    "    \"Narrator\": narrator,\n",
    "    \"Duration\": Duration,\n",
    "    \"Released_Date\": Released_Date,\n",
    "    \"Language\": language,\n",
    "    \"Rating\": rating,\n",
    "    \"Rating_count\": rating_count\n",
    "}"
   ]
  },
  {
   "cell_type": "markdown",
   "id": "38806329",
   "metadata": {},
   "source": [
    "### Converting Dictionary into Dataframe to into Excel File"
   ]
  },
  {
   "cell_type": "code",
   "execution_count": null,
   "id": "42e58a0b",
   "metadata": {},
   "outputs": [],
   "source": [
    "ebooks_data = pd.DataFrame(ebooks_data)\n",
    "\n",
    "ebooks_data.to_csv(\"ebooks_data.csv\")"
   ]
  }
 ],
 "metadata": {
  "kernelspec": {
   "display_name": "myenv",
   "language": "python",
   "name": "python3"
  },
  "language_info": {
   "codemirror_mode": {
    "name": "ipython",
    "version": 3
   },
   "file_extension": ".py",
   "mimetype": "text/x-python",
   "name": "python",
   "nbconvert_exporter": "python",
   "pygments_lexer": "ipython3",
   "version": "3.10.0"
  }
 },
 "nbformat": 4,
 "nbformat_minor": 5
}
